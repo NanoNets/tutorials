{
 "cells": [
  {
   "cell_type": "markdown",
   "metadata": {},
   "source": [
    "# Want to run this code for yourself?\n",
    "You can find the interactive ipython notebook where you can run all the steps listed here yourself at\n",
    "\n",
    "https://mybinder.org/v2/gh/NanoNets/tutorials/master?filepath=image_classification/notebooks/image_classification.ipynb\n",
    "\n",
    "PS: it will take a couple of minutes for the mybinder instance to boot up and be ready for use."
   ]
  },
  {
   "cell_type": "code",
   "execution_count": null,
   "metadata": {},
   "outputs": [],
   "source": [
    "import json\n",
    "import os\n",
    "import requests"
   ]
  },
  {
   "cell_type": "markdown",
   "metadata": {},
   "source": [
    "# Util Methods for interacting with Nanonets API. "
   ]
  },
  {
   "cell_type": "code",
   "execution_count": null,
   "metadata": {},
   "outputs": [],
   "source": [
    "# Helper methods for creating, uploading data and training an object detection model.\n",
    "def create_new_model(base_url, auth_key, categories):\n",
    "    \"\"\"\n",
    "    function to create a new model for training\n",
    "    \n",
    "    Args:\n",
    "    base_url: url to nanonets endpoint which will decide what type of model to create\n",
    "    auth_key: authentication key provided by https://app.nanonets.com/#/keys\n",
    "    categories: List of classes you want to identify\n",
    "    \n",
    "    return:\n",
    "    model_id: a unique reference to new created model\n",
    "    \"\"\"\n",
    "\n",
    "    headers = {\n",
    "        'accept': 'application/x-www-form-urlencoded'\n",
    "    }\n",
    "\n",
    "    data = {'categories' : categories}\n",
    "\n",
    "    response = requests.request(\n",
    "        \"POST\",\n",
    "        \"%s%s\" % (base_url, \"Model/\") ,\n",
    "        headers=headers,\n",
    "        auth=requests.auth.HTTPBasicAuth(auth_key, ''),\n",
    "        data=data,\n",
    "    )\n",
    "\n",
    "    result = json.loads(response.text)\n",
    "    print(\"Model Information: \", result)\n",
    "    model_id, model_type, categories = (result[\"model_id\"], result[\"model_type\"], result[\"categories\"])\n",
    "    return model_id\n",
    "\n",
    "def get_model_info(base_url, auth_key, model_id):\n",
    "    \"\"\"\n",
    "    function to get/ print information about model at any time\n",
    "    \n",
    "    Args:\n",
    "    base_url: url to nanonets endpoint which will decide what type of model to create\n",
    "    auth_key: authentication key provided by https://app.nanonets.com/#/keys\n",
    "    model_id: unique model_id generated at model creation time\n",
    "    \"\"\"\n",
    "    response = requests.request(\n",
    "        'GET',\n",
    "        '%s%s' % (base_url, \"Model/\"),\n",
    "        auth=requests.auth.HTTPBasicAuth(auth_key,''),\n",
    "        params={'modelId': model_id},\n",
    "    )\n",
    "    print(response.text)\n",
    "    result = json.loads(response.text)\n",
    "    model_id, model_type, categories, state = (result[\"model_id\"], result[\"model_type\"], result[\"categories\"], result[\"state\"])\n",
    "    return model_id, model_type, categories, state\n",
    "\n",
    "\n",
    "def upload_local_data(base_url, auth_key, image_file, category, model_id):\n",
    "    \"\"\"\n",
    "    function to upload local images to a model that has been created.\n",
    "    \n",
    "    Args:\n",
    "    base_url[str]: nanonets endpoint to which the model upload request will be sent\n",
    "        eg. https://app.nanonets.com/api/v2/ImageCategorization\n",
    "    auth_key[str]: authentication key provided by https://app.nanonets.com/#/keys\n",
    "    image_file[str]: full path to where the image is located\n",
    "    category[str]: class label to which this image belongs to\n",
    "    model_id[str]: model id for which data needs to be uploaded\n",
    "    \"\"\"\n",
    "    data = {\n",
    "        'file': open(image_file, 'rb'),\n",
    "        'category': ('', category),\n",
    "        'modelId': ('', '%s' % model_id),\n",
    "    }\n",
    "    response = requests.post(\n",
    "        '%sUploadFile/'% (base_url),\n",
    "        auth=requests.auth.HTTPBasicAuth(auth_key, ''),\n",
    "        files=data,\n",
    "    )\n",
    "    print(response.text)\n",
    "\n",
    "\n",
    "def upload_url_data(base_url, auth_key, image_urls, category, model_id):\n",
    "    \"\"\"\n",
    "    function to upload images given by their urls to a model that has been created.\n",
    "    The advantage of using URLs is that you can upload multiple images at the same time.\n",
    "    \n",
    "    Args:\n",
    "    base_url[str]: nanonets endpoint to which the model upload request will be sent\n",
    "        eg. https://app.nanonets.com/api/v2/ImageCategorization\n",
    "    auth_key[str]: authentication key provided by https://app.nanonets.com/#/keys\n",
    "    urls[List[str]]: list of urls that need to be uploaded for the corresponding category\n",
    "    category[str]: class label to which this image belongs to\n",
    "    model_id[str]: model id for which data needs to be uploaded\n",
    "    \"\"\"\n",
    "    data = {\n",
    "        'urls' : image_urls,\n",
    "        'modelId' : model_id,\n",
    "        'category': category,\n",
    "    }\n",
    "    headers = {\n",
    "        'accept': 'application/x-www-form-urlencoded'\n",
    "    }\n",
    "    response = requests.post(\n",
    "        '%sUploadUrls/'% (base_url),\n",
    "        headers=headers,\n",
    "        auth=requests.auth.HTTPBasicAuth(auth_key, ''),\n",
    "        data=data,\n",
    "    )\n",
    "    print(response.text)\n",
    "    \n",
    "    \n",
    "def train_model(base_url, auth_key, model_id):\n",
    "    headers = {'authorization': 'Basic %s'%auth_key}\n",
    "    querystring = {'modelId': model_id}\n",
    "    response = requests.request(\n",
    "        'POST',\n",
    "        '%sTrain/'%(base_url),\n",
    "        headers=headers,\n",
    "        auth=requests.auth.HTTPBasicAuth(auth_key, ''),\n",
    "        params=querystring,\n",
    "    )\n",
    "    print(\"training started .... \")\n",
    "    print(json.loads(response.text))"
   ]
  },
  {
   "cell_type": "markdown",
   "metadata": {},
   "source": [
    "# Constants\n",
    "Some basic constants for creating and launching training on Nanonets API"
   ]
  },
  {
   "cell_type": "code",
   "execution_count": null,
   "metadata": {},
   "outputs": [],
   "source": [
    "BASE_MODEL_URL = 'https://app.nanonets.com/api/v2/ImageCategorization/'\n",
    "AUTH_KEY = \"<AUTH_KEY_FROM_NANONETS_APP>\" ## can be foung https://app.nanonets.com/#/keys\n",
    "\n",
    "# you can provide more than 2 categories and train a multi class classification model as well.\n",
    "CATEGORIES = [\"dogs\", \"cats\"]\n",
    "model_id = create_new_model(BASE_MODEL_URL, auth_key=AUTH_KEY, categories=CATEGORIES)\n"
   ]
  },
  {
   "cell_type": "markdown",
   "metadata": {},
   "source": [
    "# Upload Data to newly created model"
   ]
  },
  {
   "cell_type": "code",
   "execution_count": null,
   "metadata": {},
   "outputs": [],
   "source": [
    "# # Upload data available on local machine\n",
    "# # Useful when you have custom images which are not freely available on the web.\n",
    "\n",
    "# from multiprocessing import Pool\n",
    "\n",
    "# dog_path = \"/Users/parvoberoi/Downloads/dogs/\"\n",
    "# cat_path = \"/Users/parvoberoi/Downloads/cats/\"\n",
    "\n",
    "# dog_images = os.listdir(dog_path)\n",
    "# cat_images = os.listdir(cat_path)\n",
    "\n",
    "# # helper method for use with multiprocessing.map()\n",
    "# def upload_local_image(image_info):\n",
    "#     image_path, category, model_id = image_info\n",
    "#     upload_local_data(BASE_MODEL_URL, AUTH_KEY, image_path, category, model_id)\n",
    "    \n",
    "# p = Pool(5)\n",
    "# x = p.map(upload_local_image, [(os.path.join(dog_path, image_file), \"dogs\", model_id) for image_file in dog_images])\n",
    "# y = p.map(upload_local_image, [(os.path.join(cat_path, image_file), \"cats\", model_id) for image_file in cat_images])"
   ]
  },
  {
   "cell_type": "code",
   "execution_count": null,
   "metadata": {},
   "outputs": [],
   "source": [
    "# Upload data by their URLs.\n",
    "# Prefered way for generic images as it allows us to upload multiple images with one request.\n",
    "base_github_url = \"https://raw.githubusercontent.com/NanoNets/tutorials/master/image_classification/data/\"\n",
    "\n",
    "cat_urls = [\n",
    "    os.path.join(base_github_url, \"cats\", \"%d_cat.jpeg\"%index) for index in range(1, 31)\n",
    "]\n",
    "upload_url_data(BASE_MODEL_URL, AUTH_KEY, cat_urls, \"cats\", model_id)\n",
    "\n",
    "dog_urls = [\n",
    "    os.path.join(base_github_url, \"dogs\", \"%d_dog.jpeg\"%index) for index in range(1, 31)\n",
    "]\n",
    "upload_url_data(BASE_MODEL_URL, AUTH_KEY, dog_urls, \"dogs\", model_id)\n"
   ]
  },
  {
   "cell_type": "markdown",
   "metadata": {},
   "source": [
    "# Check the model information and metadata\n",
    "You can confirm whether atleast 25(minimum required to launch training) images per category have been uploaded or not."
   ]
  },
  {
   "cell_type": "code",
   "execution_count": null,
   "metadata": {},
   "outputs": [],
   "source": [
    "get_model_info(BASE_MODEL_URL, AUTH_KEY, model_id)"
   ]
  },
  {
   "cell_type": "markdown",
   "metadata": {},
   "source": [
    "# Launch the Training Job on Nanonets Infrastructure."
   ]
  },
  {
   "cell_type": "code",
   "execution_count": null,
   "metadata": {},
   "outputs": [],
   "source": [
    "train_model(BASE_MODEL_URL, AUTH_KEY, model_id)"
   ]
  },
  {
   "cell_type": "code",
   "execution_count": null,
   "metadata": {},
   "outputs": [],
   "source": []
  }
 ],
 "metadata": {
  "kernelspec": {
   "display_name": "Python 3",
   "language": "python",
   "name": "python3"
  },
  "language_info": {
   "codemirror_mode": {
    "name": "ipython",
    "version": 3
   },
   "file_extension": ".py",
   "mimetype": "text/x-python",
   "name": "python",
   "nbconvert_exporter": "python",
   "pygments_lexer": "ipython3",
   "version": "3.6.5"
  }
 },
 "nbformat": 4,
 "nbformat_minor": 2
}
